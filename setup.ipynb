{
 "cells": [
  {
   "cell_type": "markdown",
   "metadata": {},
   "source": [
    "# Install prerequisites"
   ]
  },
  {
   "cell_type": "raw",
   "metadata": {},
   "source": [
    "cd ~\n",
    "apt-get update\n",
    "apt-get install vim\n",
    "apt-get install wget\n",
    "apt-get install gcc\n",
    "apt-get install tcl-dev tk-dev mesa-common-dev libjpeg-dev libtogl-dev\n",
    "apt-get install default-jdk "
   ]
  },
  {
   "cell_type": "markdown",
   "metadata": {},
   "source": [
    "# Install Stanford Parser"
   ]
  },
  {
   "cell_type": "raw",
   "metadata": {},
   "source": [
    "wget http://nlp.stanford.edu/software/stanford-parser-full-2015-04-20.zip\n",
    "wget http://nlp.stanford.edu/software/stanford-corenlp-full-2015-04-20.zip\n",
    "unzip stanford-parser-full-2015-04-20.zip\n",
    "unzip stanford-corenlp-full-2015-04-20.zip\n",
    "mv stanford-parser-full-2015-04-20 stanford-parser\n",
    "mv stanford-corenlp-full-2015-04-20 stanford-core\n",
    "cd stanford-parser\n",
    "jar xvf stanford-parser-3.5.2-models.jar"
   ]
  },
  {
   "cell_type": "markdown",
   "metadata": {},
   "source": [
    "# Install WordNet"
   ]
  },
  {
   "cell_type": "raw",
   "metadata": {},
   "source": [
    "cd ~\n",
    "wget http://wordnetcode.princeton.edu/3.0/WordNet-3.0.tar.gz\n",
    "tar xvzf  WordNet-3.0.tar.gz \n",
    "cd WordNet-3.0/\n",
    "vim src/stubs.c\n",
    "- change this:\n",
    "\"...\n",
    "#include <string.h>\n",
    "#include <tcl.h>\n",
    "...\"\n",
    "\n",
    "to this:\n",
    "\n",
    "\"...\n",
    "#include <string.h>\n",
    "#define USE_INTERP_RESULT 1\n",
    "#include <tcl.h>\n",
    "...\"\n",
    "- save and exit from vim\n",
    "\n",
    "\n",
    "./configure\n",
    "make\n",
    "make install\n",
    "cd ~"
   ]
  },
  {
   "cell_type": "markdown",
   "metadata": {},
   "source": [
    "## Install GSL "
   ]
  },
  {
   "cell_type": "raw",
   "metadata": {},
   "source": [
    "cd ~\n",
    "wget http://mirror.switch.ch/ftp/mirror/gnu/gsl/gsl-2.3.tar.gz\n",
    "tar xvzf gsl-2.3.tar.gz\n",
    "mkdir gsl (in ~)\n",
    "cd gsl-2.3\n",
    "./configure --prefix=/root/gsl/\n",
    "make\n",
    "make install\n",
    "cd ~/gsl\n",
    "cd include\n",
    "cp -r gsl /usr/include/\n",
    "cd ~/gsl\n",
    "cp lib/libgsl* /usr/lib/\n",
    "cp lib/pkgconfig/gsl.pc /usr/lib/pkgconfig/\n",
    "cd ~"
   ]
  },
  {
   "cell_type": "markdown",
   "metadata": {},
   "source": [
    "# Install Boost"
   ]
  },
  {
   "cell_type": "raw",
   "metadata": {},
   "source": [
    "apt-get install libboost-iostreams-dev"
   ]
  },
  {
   "cell_type": "markdown",
   "metadata": {},
   "source": [
    "# Install Brown Coherence Toolkit "
   ]
  },
  {
   "cell_type": "raw",
   "metadata": {},
   "source": [
    "wget https://bitbucket.org/melsner/browncoherence/get/d46d5cd3fc57.zip -O browncoherence.zip\n",
    "apt-get install unzip\n",
    "unzip browncoherence.zip\n",
    "mv melsner-browncoherence-d46d5cd3fc57/ browncoherence\n",
    "vim Makefile\n",
    "\n",
    "    ifeq (${ARCH}, 64)\n",
    "    GSLINCLUDE = -I /usr/include/gsl\n",
    "    GSLLIBS = -L /usr/lib/gsl -lgsl -lgslcblas\n",
    "    else\n",
    "    GSLINCLUDE = -I /usr/include/gsl\n",
    "    GSLLIBS = -L /usr/lib/gsl -lgsl -lgslcblas\n",
    "    \n",
    "    ...\n",
    "    \n",
    "    ifeq (${ARCH}, 64)\n",
    "    WNDIR = /usr/local/WordNet-3.0\n",
    "    WNINCLUDE = -idirafter$(WNDIR)/include -DUSE_WORDNET\n",
    "    WNLIBS = -L$(WNDIR)/lib -lwordnet # -lWN\n",
    "    else\n",
    "    WNDIR = /usr/local/WordNet-3.0\n",
    "    WNINCLUDE = -idirafter$(WNDIR)/include -DUSE_WORDNET\n",
    "    WNLIBS = -L$(WNDIR)/lib -lWN\n",
    "    endifklhd\n",
    "\n",
    "-- Add the flag –fpermissive to CFLAGS as below\n",
    "CFLAGS = $(WARNINGS) -Iinclude $(WNINCLUDE) $(TAO_PETSC_INCLUDE) $(GSLINCLUDE)  -fpermissive\n",
    "\n",
    "mkdir bin64\n",
    "mkdir lib64"
   ]
  },
  {
   "cell_type": "markdown",
   "metadata": {
    "collapsed": true
   },
   "source": [
    "# Installing anaconda and spyder"
   ]
  },
  {
   "cell_type": "raw",
   "metadata": {},
   "source": [
    "$cd ~\n",
    "$wget https://repo.continuum.io/archive/Anaconda2-5.1.0-Linux-x86_64.sh\n",
    "$bash Anaconda2-5.1.0-Linux-x86_64.shrm \n",
    "$rm Anaconda2-5.1.0-Linux-x86_64.sh\n",
    "$source ~/.bashrc\n",
    "\n",
    "#test the installation\n",
    "$ which python --> output:/root/anaconda3/bin/python\n"
   ]
  },
  {
   "cell_type": "raw",
   "metadata": {},
   "source": []
  }
 ],
 "metadata": {
  "kernelspec": {
   "display_name": "Python 2",
   "language": "python",
   "name": "python2"
  },
  "language_info": {
   "codemirror_mode": {
    "name": "ipython",
    "version": 2
   },
   "file_extension": ".py",
   "mimetype": "text/x-python",
   "name": "python",
   "nbconvert_exporter": "python",
   "pygments_lexer": "ipython2",
   "version": "2.7.13"
  }
 },
 "nbformat": 4,
 "nbformat_minor": 2
}
