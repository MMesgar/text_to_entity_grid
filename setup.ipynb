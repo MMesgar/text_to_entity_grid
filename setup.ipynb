{
 "cells": [
  {
   "cell_type": "markdown",
   "metadata": {},
   "source": [
    "# Install Stanford Parser"
   ]
  },
  {
   "cell_type": "raw",
   "metadata": {},
   "source": [
    "wget http://nlp.stanford.edu/software/stanford-parser-full-2015-04-20.zip\n",
    "wget http://nlp.stanford.edu/software/stanford-corenlp-full-2015-04-20.zip\n",
    "unzip stanford-parser-full-2015-04-20.zip\n",
    "unzip stanford-corenlp-full-2015-04-20.zip\n",
    "mv stanford-parser-full-2015-04-20 stanford-parser\n",
    "mv stanford-corenlp-full-2015-04-20 stanford-core\n",
    "cd stanford-parser\n",
    "jar xvf stanford-parser-3.5.2-models.jar"
   ]
  },
  {
   "cell_type": "markdown",
   "metadata": {},
   "source": [
    "# Install Brown Coherence Toolkit "
   ]
  },
  {
   "cell_type": "raw",
   "metadata": {},
   "source": [
    "sudo apt-get install wordnet-dev\n",
    "\n",
    "wget https://bitbucket.org/melsner/browncoherence/get/d46d5cd3fc57.zip -O browncoherence.zip\n",
    "\n",
    "jar xvf browncoherence.zip\n",
    "\n",
    "mv melsner-browncoherence-d46d5cd3fc57 browncoherence\n",
    "\n",
    "cd browncoherence\n",
    "\n",
    "mkdir lib64\n",
    "\n",
    "mkdir bin64\n",
    "\n",
    "cd /data/nlp/mesgarmn/browncoherence\n",
    "\n",
    "tar xvzf  WordNet-3.0.tar.gz \n",
    "\n",
    "cd WordNet-3.0/\n",
    "\n",
    "cd src/\n",
    "\n",
    "vim stubs.c\n",
    "\n"
   ]
  },
  {
   "cell_type": "markdown",
   "metadata": {},
   "source": [
    "In the stubs.c file (which will be found in the WordNet-3.0/srcdirectory include the following directive\n",
    "\n",
    "#define USE_INTERP_RESULT 1\n",
    "before the #include <tcl.h>\n"
   ]
  },
  {
   "cell_type": "raw",
   "metadata": {},
   "source": [
    "\n",
    "cd ..\n",
    "\n",
    "make\n",
    "\n",
    "sudo make install\n",
    "\n",
    "cd ..\n",
    "\n",
    "wget http://mirror.switch.ch/ftp/mirror/gnu/gsl/gsl-2.3.tar.gz\n",
    "\n",
    "tar xvzf gsl-2.3.tar.gz\n",
    "\n",
    "cd gsl-2.3\n",
    "\n",
    "./configure\n",
    "\n",
    "make\n",
    "\n",
    "sudo make install\n",
    "\n",
    "faild\n",
    "\n",
    "sudo apt-get install gsl-dev\n",
    "sudo apt-get install libgsl-bin\n",
    "sudo apt-get install libgsl2\n",
    "\n",
    "sudo apt-get install libboost-iostreams-dev\n",
    "\n",
    "cd ..\n",
    "\n",
    "vim Makefile\n",
    "\n",
    "make everything\n",
    "\n",
    "bin32/TestGrid data/smokedoc.txt\n"
   ]
  },
  {
   "cell_type": "code",
   "execution_count": null,
   "metadata": {
    "collapsed": true
   },
   "outputs": [],
   "source": []
  }
 ],
 "metadata": {
  "kernelspec": {
   "display_name": "Python 2",
   "language": "python",
   "name": "python2"
  },
  "language_info": {
   "codemirror_mode": {
    "name": "ipython",
    "version": 2
   },
   "file_extension": ".py",
   "mimetype": "text/x-python",
   "name": "python",
   "nbconvert_exporter": "python",
   "pygments_lexer": "ipython2",
   "version": "2.7.14"
  }
 },
 "nbformat": 4,
 "nbformat_minor": 2
}
