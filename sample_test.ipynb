{
 "cells": [
  {
   "cell_type": "code",
   "execution_count": 5,
   "metadata": {
    "collapsed": true
   },
   "outputs": [],
   "source": [
    "from  parsetree import *"
   ]
  },
  {
   "cell_type": "code",
   "execution_count": 6,
   "metadata": {
    "collapsed": true
   },
   "outputs": [],
   "source": [
    "args = {\n",
    "    'mem': 150,\n",
    "            'parser': \"./stanford_parser/stanford-parser.jar\",\n",
    "            'models': \"./stanford_parser/stanford-parser-3.5.2-models.jar\",\n",
    "            'grammar': './stanford_parser/edu/stanford/nlp/models/lexparser/englishPCFG.ser.gz' ,\n",
    "            'threads': 1 ,\n",
    "            'max_length': 30 \n",
    "}"
   ]
  },
  {
   "cell_type": "code",
   "execution_count": 7,
   "metadata": {},
   "outputs": [],
   "source": [
    "parse_trees = parse(\"Ali went to school. \\n Ali likes choclate. \\n\",args)\n",
    "trees = {\"key\":\"f1\",\"trees\":parse_trees}"
   ]
  },
  {
   "cell_type": "code",
   "execution_count": 8,
   "metadata": {},
   "outputs": [],
   "source": [
    "text = make_grid('./browncoherence',trees)\n",
    "with open('./grids/f1.grid','w') as grid_file:\n",
    "    grid_file.write(text)"
   ]
  },
  {
   "cell_type": "code",
   "execution_count": null,
   "metadata": {},
   "outputs": [],
   "source": []
  },
  {
   "cell_type": "code",
   "execution_count": null,
   "metadata": {
    "collapsed": true
   },
   "outputs": [],
   "source": []
  }
 ],
 "metadata": {
  "kernelspec": {
   "display_name": "Python 2",
   "language": "python",
   "name": "python2"
  },
  "language_info": {
   "codemirror_mode": {
    "name": "ipython",
    "version": 2
   },
   "file_extension": ".py",
   "mimetype": "text/x-python",
   "name": "python",
   "nbconvert_exporter": "python",
   "pygments_lexer": "ipython2",
   "version": "2.7.14"
  }
 },
 "nbformat": 4,
 "nbformat_minor": 2
}
